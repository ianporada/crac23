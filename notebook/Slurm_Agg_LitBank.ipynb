{
 "cells": [
  {
   "cell_type": "code",
   "execution_count": 3,
   "metadata": {},
   "outputs": [],
   "source": [
    "import os\n",
    "from os import path\n",
    "import glob\n",
    "import pandas as pd\n",
    "import json\n",
    "from collections import defaultdict"
   ]
  },
  {
   "cell_type": "markdown",
   "metadata": {},
   "source": [
    "### Get location of all conll output files"
   ]
  },
  {
   "cell_type": "code",
   "execution_count": 21,
   "metadata": {},
   "outputs": [
    {
     "name": "stdout",
     "output_type": "stream",
     "text": [
      "1 & 77.2\n",
      "2 & 80.3\n",
      "3 & 78.7\n",
      "4 & 79.1\n",
      "5 & 78.7\n",
      "6 & 78.7\n",
      "7 & 80.7\n",
      "8 & 79.1\n",
      "9 & 80.8\n",
      "10 & 78.7\n"
     ]
    }
   ],
   "source": [
    "# SPLIT = 'dev'\n",
    "SPLIT = 'test'\n",
    "\n",
    "conll_files = []\n",
    "for idx in range(10):\n",
    "    conll_files.append(\n",
    "        f'/share/data/speech/shtoshni/research/litbank_coref/models/longformer_litbank_cross_val_split_{idx}_max_evals_20_max_segment_len_4096/litbank/test.conll')\n",
    "    \n",
    "    json_file = f'/share/data/speech/shtoshni/research/litbank_coref/models/longformer_litbank_cross_val_split_{idx}_max_evals_20_max_segment_len_4096/litbank/perf.json'\n",
    "    print(f\"{idx + 1} & {json.load(open(json_file))['litbank_test']['fscore']}\")\n",
    "    "
   ]
  },
  {
   "cell_type": "markdown",
   "metadata": {},
   "source": [
    "### Concat all Cross Val CoNLLs"
   ]
  },
  {
   "cell_type": "code",
   "execution_count": 16,
   "metadata": {},
   "outputs": [
    {
     "name": "stdout",
     "output_type": "stream",
     "text": [
      "/tmp/test.conll\n"
     ]
    }
   ],
   "source": [
    "output_dir = \"/tmp\"\n",
    "\n",
    "conll_output_file = path.join(output_dir, f'{SPLIT}.conll')  \n",
    "print(conll_output_file)\n",
    "with open(conll_output_file, \"w\") as output_w:\n",
    "    for conll_file in conll_files:\n",
    "        with open(conll_file) as g:\n",
    "            for line in g:\n",
    "                output_w.write(line)\n",
    "                    \n",
    "        \n",
    "                    "
   ]
  },
  {
   "cell_type": "markdown",
   "metadata": {},
   "source": [
    "#### Setup coref evaluation script path and Gold CoNLL "
   ]
  },
  {
   "cell_type": "code",
   "execution_count": 17,
   "metadata": {},
   "outputs": [],
   "source": [
    "import sys\n",
    "import subprocess\n",
    "import re\n",
    "\n",
    "gold_conll = f\"/home/shtoshni/Research/litbank_coref/data/litbank/all.{SPLIT}.conll\"\n",
    "scorer_path = \"/home/shtoshni/Research/litbank_coref/lrec2020-coref/reference-coreference-scorers/scorer.pl\"\n",
    "\n",
    "def get_coref_score(metric, path_to_scorer, gold=None, preds=None):\n",
    "    output=subprocess.check_output([\"perl\", path_to_scorer, metric, preds, gold]).decode(\"utf-8\")\n",
    "    output=output.split(\"\\n\")[-3]\n",
    "    matcher=re.search(\"Coreference: Recall: \\(.*?\\) (.*?)%\tPrecision: \\(.*?\\) (.*?)%\tF1: (.*?)%\", output)\n",
    "    if matcher is not None:\n",
    "        recall=float(matcher.group(1))\n",
    "        precision=float(matcher.group(2))\n",
    "        f1=float(matcher.group(3))\n",
    "    return recall, precision, f1"
   ]
  },
  {
   "cell_type": "code",
   "execution_count": 18,
   "metadata": {},
   "outputs": [
    {
     "name": "stdout",
     "output_type": "stream",
     "text": [
      " & 91.1 & 87.7 & 89.4  & 80.1 & 77.8 & 79.0  & 67.4 & 71.7 & 69.5 &  79.3\n"
     ]
    }
   ],
   "source": [
    "metrics = ['MUC', 'Bcub', 'CEAFE']\n",
    "\n",
    "fscore_list = []\n",
    "for metric in metrics:\n",
    "    recall, precision, fscore = get_coref_score(metric.lower(), scorer_path, gold_conll, conll_output_file)\n",
    "    print(f\" & {recall:.1f} & {precision:.1f} & {fscore:.1f} \", end=\"\")\n",
    "    fscore_list.append(fscore)\n",
    "\n",
    "print(f\"& {sum(fscore_list)/len(fscore_list): .1f}\")\n"
   ]
  }
 ],
 "metadata": {
  "kernelspec": {
   "display_name": "Python [conda env:rap_nlp] *",
   "language": "python",
   "name": "conda-env-rap_nlp-py"
  },
  "language_info": {
   "codemirror_mode": {
    "name": "ipython",
    "version": 3
   },
   "file_extension": ".py",
   "mimetype": "text/x-python",
   "name": "python",
   "nbconvert_exporter": "python",
   "pygments_lexer": "ipython3",
   "version": "3.8.5"
  }
 },
 "nbformat": 4,
 "nbformat_minor": 4
}
