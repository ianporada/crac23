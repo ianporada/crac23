{
 "cells": [
  {
   "cell_type": "code",
   "execution_count": 38,
   "metadata": {},
   "outputs": [],
   "source": [
    "from os import path\n",
    "import json\n",
    "\n",
    "import numpy as np"
   ]
  },
  {
   "cell_type": "code",
   "execution_count": 39,
   "metadata": {},
   "outputs": [],
   "source": [
    "def flatten(l):\n",
    "    return [item for sublist in l for item in sublist]"
   ]
  },
  {
   "cell_type": "code",
   "execution_count": 40,
   "metadata": {},
   "outputs": [],
   "source": [
    "base_data_dir = '/home/shtoshni/Research/litbank_coref/data'\n",
    "data_dir_dict = {\n",
    "    'ontonotes': path.join(base_data_dir, 'ontonotes/all.jsonlines'),\n",
    "    'litbank': path.join(base_data_dir, f'litbank/all.jsonlines'),\n",
    "    'preco': path.join(base_data_dir, 'preco/all.jsonlines'),\n",
    "    'character_identification': path.join(base_data_dir, 'character_identification/all.jsonlines'),\n",
    "    'wikicoref': path.join(base_data_dir, 'wikicoref/all.jsonlines'),\n",
    "    'quizbowl': path.join(base_data_dir, 'quizbowl/all.jsonlines'),\n",
    "    'gap': path.join(base_data_dir, 'gap/all.jsonlines'),\n",
    "\n",
    "}\n"
   ]
  },
  {
   "cell_type": "code",
   "execution_count": 41,
   "metadata": {},
   "outputs": [
    {
     "name": "stdout",
     "output_type": "stream",
     "text": [
      "ontonotes & 467 & 56 & 2.3 & 4.4 & 0.0\n",
      "litbank & 2105 & 291 & 2.0 & 3.7 & 19.8\n",
      "preco & 337 & 105 & 2.7 & 1.6 & 52.0\n",
      "character_identification & 262 & 36 & 1.0 & 5.1 & 6.4\n",
      "wikicoref & 1996 & 230 & 2.6 & 5.0 & 0.0\n",
      "quizbowl & 126 & 24 & 2.7 & 2.0 & 26.0\n",
      "gap & 95 & nan & 2.0 & nan & nan\n"
     ]
    },
    {
     "name": "stderr",
     "output_type": "stream",
     "text": [
      "<ipython-input-41-50c7bf646ef5>:41: RuntimeWarning: invalid value encountered in double_scalars\n",
      "  print(f'{dataset} & {np.mean(num_tokens_list):.0f} & {np.mean(num_mentions_list):.0f} '\n"
     ]
    }
   ],
   "source": [
    "for dataset, data_file in data_dir_dict.items():\n",
    "    num_tokens_list = []\n",
    "    num_mentions_list = []\n",
    "    mention_lens_list = []\n",
    "    cluster_lens_list = []\n",
    "    num_singleton_mentions = []\n",
    "    \n",
    "    with open(data_file) as f:\n",
    "        for line in f:\n",
    "            instance = json.loads(line.strip())\n",
    "            num_tokens = instance['subtoken_map'][-1] - instance['subtoken_map'][0] + 1\n",
    "            num_tokens_list.append(num_tokens)\n",
    "            \n",
    "            if dataset != 'gap':\n",
    "                mentions = flatten(instance['clusters'])\n",
    "                num_mentions = len(mentions)\n",
    "                num_mentions_list.append(num_mentions)\n",
    "            \n",
    "                mention_lens = [(\n",
    "                    instance['subtoken_map'][ment_end] - instance['subtoken_map'][ment_start] + 1)\n",
    "                    for ment_start, ment_end in mentions\n",
    "                ]\n",
    "                cluster_lens = [len(cluster) for cluster in instance['clusters']]\n",
    "                num_singleton_mentions.append(\n",
    "                    len([cluster for cluster in instance['clusters'] if len(cluster) == 1])\n",
    "                )\n",
    "\n",
    "                mention_lens_list.extend(mention_lens)\n",
    "                cluster_lens_list.extend(cluster_lens)\n",
    "                \n",
    "            else:\n",
    "                mention_lens = []\n",
    "                for key in ['pronoun_span', 'a_span', 'b_span']:\n",
    "                    ment_start, ment_end = instance[key]\n",
    "                    mention_lens.append(\n",
    "                        instance['subtoken_map'][ment_end] - instance['subtoken_map'][ment_start] + 1)\n",
    "                    \n",
    "                mention_lens_list.extend(mention_lens)\n",
    "            \n",
    "            \n",
    "    print(f'{dataset} & {np.mean(num_tokens_list):.0f} & {np.mean(num_mentions_list):.0f} '\n",
    "          f'& {np.mean(mention_lens_list):.1f} & {np.mean(cluster_lens_list):.1f} & {(np.sum(num_singleton_mentions) * 100.0)/np.sum(num_mentions_list):.1f}'\n",
    "         )\n",
    "    \n",
    "            \n",
    "            \n",
    "            \n",
    "    "
   ]
  }
 ],
 "metadata": {
  "kernelspec": {
   "display_name": "Python [conda env:rap_nlp] *",
   "language": "python",
   "name": "conda-env-rap_nlp-py"
  },
  "language_info": {
   "codemirror_mode": {
    "name": "ipython",
    "version": 3
   },
   "file_extension": ".py",
   "mimetype": "text/x-python",
   "name": "python",
   "nbconvert_exporter": "python",
   "pygments_lexer": "ipython3",
   "version": "3.8.5"
  }
 },
 "nbformat": 4,
 "nbformat_minor": 4
}
