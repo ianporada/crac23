{
 "cells": [
  {
   "cell_type": "code",
   "execution_count": 62,
   "metadata": {},
   "outputs": [],
   "source": [
    "import glob\n",
    "from os import path\n",
    "from collections import Counter\n",
    "\n",
    "import xml\n",
    "import xml.etree.ElementTree as ET"
   ]
  },
  {
   "cell_type": "code",
   "execution_count": 5,
   "metadata": {},
   "outputs": [],
   "source": [
    "wiki_dir = \"/home/shtoshni/Research/litbank_coref/data/wikicoref/orig/Annotation\""
   ]
  },
  {
   "cell_type": "code",
   "execution_count": 74,
   "metadata": {},
   "outputs": [],
   "source": [
    "text_files = glob.glob(path.join(wiki_dir, \"*/*.txt\"))\n",
    "xmls = glob.glob(path.join(wiki_dir, \"*/Markables/*_OntoNotesScheme.xml\"))\n",
    "\n",
    "xml_files = []\n",
    "for text_file in text_files:\n",
    "    markable_dir = path.join(path.dirname(text_file), \"Markables\")\n",
    "#     ontonotes_file = glob.glob(path.join(markable_dir, \"*_ACE*.xml\"))[0]\n",
    "    ontonotes_file = glob.glob(path.join(markable_dir, \"*_OntoNotes*.xml\"))[0]\n",
    "#     ontonotes_file = glob.glob(path.join(markable_dir, \"*coref_level.xml\"))[0]\n",
    "    xml_files.append(ontonotes_file)\n"
   ]
  },
  {
   "cell_type": "code",
   "execution_count": 80,
   "metadata": {},
   "outputs": [
    {
     "name": "stdout",
     "output_type": "stream",
     "text": [
      "Counter({'ne': 3283, 'np': 2479, 'pro': 1228})\n",
      "6990\n"
     ]
    }
   ],
   "source": [
    "unique_spans = list()\n",
    "mention_type = Counter()\n",
    "\n",
    "for xml_file in xml_files:\n",
    "    tree = ET.parse(xml_file)\n",
    "    basefile = path.basename(xml_file)\n",
    "#     print(basefile)\n",
    "    root = tree.getroot()\n",
    "    for elem in list(root):\n",
    "        if elem.get('coreftype') == 'ident':\n",
    "            span = elem.get('span')\n",
    "            complete_span = (basefile + span)\n",
    "            unique_spans.append(complete_span)\n",
    "            \n",
    "            mention_type[elem.get(\"mentiontype\")] += 1\n",
    "            \n",
    "print(mention_type)\n",
    "print(len(unique_spans))\n",
    "#         print(elem.items())\n",
    "#         print(dir(elem))\n",
    "#         print(elem.get('span'))\n",
    "#         break"
   ]
  }
 ],
 "metadata": {
  "kernelspec": {
   "display_name": "Python [conda env:rap_nlp] *",
   "language": "python",
   "name": "conda-env-rap_nlp-py"
  },
  "language_info": {
   "codemirror_mode": {
    "name": "ipython",
    "version": 3
   },
   "file_extension": ".py",
   "mimetype": "text/x-python",
   "name": "python",
   "nbconvert_exporter": "python",
   "pygments_lexer": "ipython3",
   "version": "3.8.5"
  }
 },
 "nbformat": 4,
 "nbformat_minor": 4
}
