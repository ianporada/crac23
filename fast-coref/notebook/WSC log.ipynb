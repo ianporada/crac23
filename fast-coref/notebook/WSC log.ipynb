{
 "cells": [
  {
   "cell_type": "code",
   "execution_count": 1,
   "metadata": {},
   "outputs": [],
   "source": [
    "log_file = \"/home/shtoshni/Research/fast-coref/models/test.log.jsonl\""
   ]
  },
  {
   "cell_type": "code",
   "execution_count": 9,
   "metadata": {},
   "outputs": [],
   "source": [
    "import json\n",
    "\n",
    "from collections import Counter"
   ]
  },
  {
   "cell_type": "code",
   "execution_count": 19,
   "metadata": {},
   "outputs": [
    {
     "name": "stdout",
     "output_type": "stream",
     "text": [
      "Counter({'it': 24, 'they': 2})\n",
      "Counter({'it': 28, 'he': 18, 'she': 10, 'his': 6, 'they': 4, 'them': 4, 'her': 3, 'him': 1})\n",
      "they 40.0\n",
      "it 7.0\n",
      "she 42.1\n",
      "he 55.8\n",
      "them 10.0\n",
      "him 50.0\n",
      "her 20.0\n",
      "his 43.8\n"
     ]
    }
   ],
   "source": [
    "pronoun_to_corr = Counter()\n",
    "pronoun_to_total = Counter()\n",
    "\n",
    "empty_clusters = Counter()\n",
    "single_clusters = Counter()\n",
    "\n",
    "with open(log_file) as f:\n",
    "    for line in f:\n",
    "        instance = json.loads(line.strip())\n",
    "        pron_start, pron_end = instance['pronoun_span']\n",
    "        pronoun = str(instance['str_doc'][pron_start: pron_end + 1][0]).strip().lower()[1:]\n",
    "        \n",
    "        pronoun_to_corr[pronoun] += int(instance['correct'])\n",
    "        pronoun_to_total[pronoun] += 1\n",
    "        \n",
    "        if len(instance['predicted_clusters']) == 0:\n",
    "            empty_clusters[pronoun] += 1\n",
    "        elif len(instance['predicted_clusters']) == 1:\n",
    "            single_clusters[pronoun] += 1\n",
    "            \n",
    "\n",
    "print(empty_clusters)\n",
    "print(single_clusters)\n",
    "\n",
    "for pronoun in pronoun_to_corr:\n",
    "    print(f'{pronoun} {(100 * pronoun_to_corr[pronoun])/pronoun_to_total[pronoun]:.1f}')"
   ]
  }
 ],
 "metadata": {
  "kernelspec": {
   "display_name": "Python [conda env:rap_nlp] *",
   "language": "python",
   "name": "conda-env-rap_nlp-py"
  },
  "language_info": {
   "codemirror_mode": {
    "name": "ipython",
    "version": 3
   },
   "file_extension": ".py",
   "mimetype": "text/x-python",
   "name": "python",
   "nbconvert_exporter": "python",
   "pygments_lexer": "ipython3",
   "version": "3.8.5"
  }
 },
 "nbformat": 4,
 "nbformat_minor": 4
}
